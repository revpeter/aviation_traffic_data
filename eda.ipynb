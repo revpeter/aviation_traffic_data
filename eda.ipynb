{
 "cells": [
  {
   "cell_type": "code",
   "execution_count": 2,
   "metadata": {},
   "outputs": [],
   "source": [
    "import pandas as pd\n",
    "import numpy as np\n",
    "import matplotlib.pyplot as plt"
   ]
  },
  {
   "cell_type": "code",
   "execution_count": 93,
   "metadata": {},
   "outputs": [
    {
     "name": "stdout",
     "output_type": "stream",
     "text": [
      "(380238, 32)\n",
      "(237554, 32)\n"
     ]
    }
   ],
   "source": [
    "df = pd.read_csv(\"./data/T_T100D_SEGMENT_ALL_CARRIER_2018.csv\")\n",
    "print(df.shape)\n",
    "df = df[\n",
    "            (df[\"PASSENGERS\"] != 0) &\n",
    "            (df[\"SEATS\"] > 1) & \n",
    "            (df[\"DEPARTURES_PERFORMED\"] != 0) &\n",
    "            (df[\"DEPARTURES_SCHEDULED\"] != 0) & \n",
    "            (df[\"DISTANCE\"] != 0) & \n",
    "            (df[\"DEPARTURES_PERFORMED\"] < df[\"PASSENGERS\"]) & \n",
    "            (~df[\"CLASS\"].isin([\"G\", \"P\"]))\n",
    "        ].copy()\n",
    "print(df.shape)\n",
    "\n",
    "df[\"PASSENGER_CAP\"] = df[\"SEATS\"] / df[\"DEPARTURES_PERFORMED\"]\n",
    "df[\"USAGE%\"] = df[\"PASSENGERS\"] / df[\"SEATS\"] * 100\n",
    "df[\"POP\"] = df[\"USAGE%\"] * df[\"DEPARTURES_PERFORMED\"]\n",
    "df[\"ROUTE\"] = df[\"ORIGIN\"] + \"_\" + df[\"DEST\"]"
   ]
  },
  {
   "cell_type": "code",
   "execution_count": 96,
   "metadata": {},
   "outputs": [
    {
     "data": {
      "text/plain": [
       "ROUTE\n",
       "MCO_SAV        1.785714\n",
       "PWM_PIT        3.076923\n",
       "MEM_GSO        3.076923\n",
       "RIC_CMH        3.076923\n",
       "LIT_PIA        3.076923\n",
       "               ...     \n",
       "ITO_HNL    32509.220674\n",
       "HNL_OGG    32974.942887\n",
       "HNL_ITO    33544.666274\n",
       "OGG_HNL    34185.891717\n",
       "HNL_KOA    38105.686985\n",
       "Name: POP, Length: 9819, dtype: float64"
      ]
     },
     "execution_count": 96,
     "metadata": {},
     "output_type": "execute_result"
    }
   ],
   "source": [
    "df.groupby(\"ROUTE\")[\"POP\"].mean().sort_values()"
   ]
  },
  {
   "cell_type": "code",
   "execution_count": 86,
   "metadata": {},
   "outputs": [
    {
     "data": {
      "text/plain": [
       "145476    100.000000\n",
       "144883    100.000000\n",
       "264626    100.000000\n",
       "145419    100.000000\n",
       "145475    100.000000\n",
       "145421    100.000000\n",
       "144540    100.000000\n",
       "145420    100.000000\n",
       "221049    100.046296\n",
       "214610    100.222222\n",
       "159410    100.277778\n",
       "159409    100.277778\n",
       "217804    100.303030\n",
       "214611    100.333333\n",
       "217805    100.353535\n",
       "142847    100.555556\n",
       "142846    100.555556\n",
       "142845    100.555556\n",
       "142844    100.555556\n",
       "221463    100.555556\n",
       "Name: USAGE%, dtype: float64"
      ]
     },
     "execution_count": 86,
     "metadata": {},
     "output_type": "execute_result"
    }
   ],
   "source": [
    "df[\"USAGE%\"].sort_values().tail(20)"
   ]
  },
  {
   "cell_type": "code",
   "execution_count": 91,
   "metadata": {},
   "outputs": [
    {
     "data": {
      "text/plain": [
       "DEPARTURES_SCHEDULED                     849.0\n",
       "DEPARTURES_PERFORMED                     849.0\n",
       "SEATS                                 108672.0\n",
       "PASSENGERS                             95777.0\n",
       "DISTANCE                                 100.0\n",
       "RAMP_TO_RAMP                           35812.0\n",
       "AIR_TIME                               18548.0\n",
       "UNIQUE_CARRIER                              HA\n",
       "AIRLINE_ID                             19690.0\n",
       "UNIQUE_CARRIER_NAME     Hawaiian Airlines Inc.\n",
       "REGION                                       D\n",
       "CARRIER                                     HA\n",
       "CARRIER_NAME            Hawaiian Airlines Inc.\n",
       "CARRIER_GROUP                                3\n",
       "CARRIER_GROUP_NEW                          3.0\n",
       "ORIGIN_AIRPORT_ID                        12173\n",
       "ORIGIN                                     HNL\n",
       "ORIGIN_CITY_NAME                  Honolulu, HI\n",
       "ORIGIN_STATE_ABR                            HI\n",
       "ORIGIN_STATE_NM                         Hawaii\n",
       "DEST_AIRPORT_ID                          13830\n",
       "DEST                                       OGG\n",
       "DEST_CITY_NAME                     Kahului, HI\n",
       "DEST_STATE_ABR                              HI\n",
       "DEST_STATE_NM                           Hawaii\n",
       "AIRCRAFT_GROUP                               6\n",
       "AIRCRAFT_TYPE                              608\n",
       "YEAR                                      2018\n",
       "QUARTER                                      3\n",
       "MONTH                                        7\n",
       "DISTANCE_GROUP                               1\n",
       "CLASS                                        F\n",
       "PASSENGER_CAP                            128.0\n",
       "USAGE%                               88.134018\n",
       "POP                                74825.78125\n",
       "Name: 380208, dtype: object"
      ]
     },
     "execution_count": 91,
     "metadata": {},
     "output_type": "execute_result"
    }
   ],
   "source": [
    "df.loc[380208]"
   ]
  },
  {
   "cell_type": "code",
   "execution_count": 80,
   "metadata": {},
   "outputs": [
    {
     "data": {
      "text/plain": [
       "68.75"
      ]
     },
     "execution_count": 80,
     "metadata": {},
     "output_type": "execute_result"
    }
   ],
   "source": [
    "11 / 0.16"
   ]
  },
  {
   "cell_type": "code",
   "execution_count": 68,
   "metadata": {},
   "outputs": [
    {
     "data": {
      "text/plain": [
       "114099    1\n",
       "114100    1\n",
       "114108    1\n",
       "114109    1\n",
       "114117    1\n",
       "         ..\n",
       "380232    1\n",
       "380233    1\n",
       "380234    1\n",
       "380235    1\n",
       "380236    1\n",
       "Name: CARRIER_GROUP, Length: 237554, dtype: int64"
      ]
     },
     "execution_count": 68,
     "metadata": {},
     "output_type": "execute_result"
    }
   ],
   "source": [
    "df[\"CARRIER_GROUP\"]"
   ]
  },
  {
   "cell_type": "code",
   "execution_count": null,
   "metadata": {},
   "outputs": [],
   "source": []
  }
 ],
 "metadata": {
  "kernelspec": {
   "display_name": "Python 3",
   "language": "python",
   "name": "python3"
  },
  "language_info": {
   "codemirror_mode": {
    "name": "ipython",
    "version": 3
   },
   "file_extension": ".py",
   "mimetype": "text/x-python",
   "name": "python",
   "nbconvert_exporter": "python",
   "pygments_lexer": "ipython3",
   "version": "3.10.13"
  }
 },
 "nbformat": 4,
 "nbformat_minor": 2
}
